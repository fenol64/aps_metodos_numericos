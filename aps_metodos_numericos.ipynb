{
  "nbformat": 4,
  "nbformat_minor": 0,
  "metadata": {
    "colab": {
      "provenance": [],
      "authorship_tag": "ABX9TyN5LaBqWZwPLRTops0H7z24",
      "include_colab_link": true
    },
    "kernelspec": {
      "name": "python3",
      "display_name": "Python 3"
    },
    "language_info": {
      "name": "python"
    }
  },
  "cells": [
    {
      "cell_type": "markdown",
      "metadata": {
        "id": "view-in-github",
        "colab_type": "text"
      },
      "source": [
        "<a href=\"https://colab.research.google.com/github/Gabriel1000000/Aps_metodos-numericos/blob/main/APS_metodos_numericos.ipynb\" target=\"_parent\"><img src=\"https://colab.research.google.com/assets/colab-badge.svg\" alt=\"Open In Colab\"/></a>"
      ]
    },
    {
      "cell_type": "code",
      "source": [
        "pip install pythonds"
      ],
      "metadata": {
        "colab": {
          "base_uri": "https://localhost:8080/"
        },
        "id": "eaH5uTCx32S6",
        "outputId": "4ce1ce17-7847-46f8-c7fc-e57e80f49d62"
      },
      "execution_count": null,
      "outputs": [
        {
          "output_type": "stream",
          "name": "stdout",
          "text": [
            "Looking in indexes: https://pypi.org/simple, https://us-python.pkg.dev/colab-wheels/public/simple/\n",
            "Requirement already satisfied: pythonds in /usr/local/lib/python3.10/dist-packages (1.2.1)\n"
          ]
        }
      ]
    },
    {
      "cell_type": "code",
      "execution_count": null,
      "metadata": {
        "colab": {
          "base_uri": "https://localhost:8080/"
        },
        "id": "nEXi9HDdu5PF",
        "outputId": "f9ab5734-b705-4614-f8e9-d2d37f7022c9"
      },
      "outputs": [
        {
          "output_type": "stream",
          "name": "stdout",
          "text": [
            "Numero inicial = fffaeda10\n",
            "numero_base2 = 111111111111101011101101101000010000 \n",
            "numero_base7 =4651541465634\n",
            "numero_base8 = 777753555020\n"
          ]
        }
      ],
      "source": [
        "#Quetão 1\n",
        "#Converção de Base da Base 16 para as Base 2, 7 e 8.\n",
        "#ATENÇÃO!!!! *ANTES DE INICAR O CODIGO INTALE PRIMEIRO O \"pip install pythonds\"! *\n",
        "from pythonds.basic import Stack \n",
        "numero_base16 = 0xfffaeda10 \n",
        "numero_base2 = bin(numero_base16)\n",
        "numero_base8 = oct(numero_base16)\n",
        "numero_base7 = (numero_base16)\n",
        "numero_inicial = hex(numero_base16)\n",
        "def divideBy2(decNumber):\n",
        "    remstack = Stack()\n",
        "    while decNumber > 0:\n",
        "        rem = decNumber % 7\n",
        "        remstack.push(rem)\n",
        "        decNumber = decNumber // 7\n",
        "    binString = \"\"\n",
        "    while not remstack.isEmpty():\n",
        "        binString = binString + str(remstack.pop())\n",
        "    return binString\n",
        "\n",
        "print(f\"Numero inicial = {numero_inicial[2::]}\")\n",
        "print(f'numero_base2 = {numero_base2 [2::]} ')\n",
        "print(f'numero_base7 ={divideBy2(numero_base16)}')\n",
        "print(f'numero_base8 = {numero_base8 [2::]}')\n",
        "#conversção da base 16 para a base 10= 68714158608\n",
        "#conversção da base 16 para a base 7=4651541465634\n",
        "\n",
        "\n",
        "  "
      ]
    },
    {
      "cell_type": "code",
      "source": [
        "#Questão 2\n",
        "import numpy as np\n",
        "import math \n",
        "import matplotlib.pyplot as plt\n",
        "a = -2\n",
        "b = 2\n",
        "def f(x): #Função Raiz // Não usei o lambda por que por algum motivo, dava um erro, para não perder tempo fiz do jeito antigo\n",
        "\n",
        "  f = x**4 - 7*x**2 + x + 8\n",
        "    \n",
        "  return(f)\n",
        "\n",
        "print(\"f(x) = x^4 - 7x^2 + x em x = a é\", f(a))\n",
        "print(\"f(x) = x^4 - 7x^2 + x em x = b é\", f(b))\n",
        "\n",
        "l = (math.log(b - a, 10) - math.log(0.000001, 10)) / math.log(2, 10)\n",
        "round(l,6)\n",
        "print(f'Valor de X: ', round(l,6)) # round para fazer um truncamento em 6 casas que é a precisão especificada\n",
        "# código para resolução de L\n",
        "\n",
        "x = np.linspace(-2.5, 2.5) #Retorna números com espaçamento uniforme em um intervalo especificado.\n",
        "# Usar o intervalo ao qual quer determinar a solução\n",
        "y = f(x) # valores da função avaliada nos pontos x\n",
        "plt.figure(dpi=70, figsize=(8, 6)) # Crie uma nova figura ou ative uma figura existente.\n",
        "# figsizw(l,h) largura e altura em polegadas. dpi=resolução da figura em polegadas\n",
        "plt.title(\"Valor da função de f(x) = x^4 - 7x^2 + x + 8\")\n",
        "plt.plot(x,y)\n",
        "plt.hlines(y=0, xmin=-5, xmax=10) # Responsável pela linha do eixo x\n",
        "plt.vlines(x=0, ymin=-5, ymax=30) # Responsável Pela linha do eixo y\n",
        "plt.ylabel(\"f(x)\") # Utilizei para o título do eixo y\n",
        "plt.show() #Exiba todas as figuras abertas."
      ],
      "metadata": {
        "colab": {
          "base_uri": "https://localhost:8080/",
          "height": 439
        },
        "id": "EGumErXsuwjH",
        "outputId": "34dc95bf-3c75-4a59-e496-54e4b71f050f"
      },
      "execution_count": null,
      "outputs": [
        {
          "output_type": "stream",
          "name": "stdout",
          "text": [
            "f(x) = x^4 - 7x^2 + x em x = a é -6\n",
            "f(x) = x^4 - 7x^2 + x em x = b é -2\n",
            "Valor de X:  21.931569\n"
          ]
        },
        {
          "output_type": "display_data",
          "data": {
            "text/plain": [
              "<Figure size 560x420 with 1 Axes>"
            ],
            "image/png": "[encoded data removed]"
          },
          "metadata": {}
        }
      ]
    },
    {
      "cell_type": "code",
      "source": [
        "#Questão 3\n",
        "import numpy as np\n",
        "\n",
        "#Para resolver essa questão, podemos usar os métodos da bissecção e quase-Newton para encontrar a raiz da função f(x) = x^4 - 7x^2 + x - 8 com precisão de 1E-06 no intervalo [-5, 5].\n",
        "#Para começar, importaremos a biblioteca numpy para realizar as operações matemáticas necessárias:\n",
        "\n",
        "def bisseccao(f, a, b, precisao):\n",
        "    i = 0\n",
        "    while abs(b - a) > precisao:\n",
        "        c = (a + b) / 2\n",
        "        if f(c) == 0:\n",
        "            return c\n",
        "        elif f(c) * f(a) < 0:\n",
        "            b = c\n",
        "        else:\n",
        "            a = c\n",
        "        i += 1\n",
        "    return (a + b) / 2, i\n",
        "\n",
        "# f: a função a ser avaliada\n",
        "# a: o limite inferior do intervalo\n",
        "# b: o limite superior do intervalo\n",
        "# precisao: a precisão desejada\n",
        "\n",
        "#O método retorna uma tupla com a raiz aproximada e o número de iterações necessárias para alcançar a precisão desejada.\n",
        "#Agora podemos usar a função bisseccao() para encontrar a raiz da função f(x) no intervalo [-5, 5]:\n",
        "\n",
        "f = lambda x: x*4 - 7*x*2 + x - 8\n",
        "a, b = -5, 5\n",
        "precisao = 1E-06\n",
        "\n",
        "raiz_bisseccao, iteracoes_bisseccao = bisseccao(f, a, b, precisao)\n",
        "\n",
        "print(f\"A raiz da equação pelo método da bissecção é {raiz_bisseccao:.6f} com {iteracoes_bisseccao} iterações.\")\n",
        "\n",
        "#O código acima define a função f utilizando uma função lambda, que é uma forma abreviada de definir funções em Python.\n",
        "# Em seguida, define os parâmetros do método da bissecção e chama a função bisseccao(), armazenando a raiz e o número de iterações em raiz_bisseccao e iteracoes_bisseccao, respectivamente.\n",
        "# Por fim, o código imprime o resultado.\n",
        "\n",
        "#Método de Quase-Newton\n",
        "#O código a seguir implementa o método de Quase-Newton:\n",
        "def quase_newton(f, x0, precisao):\n",
        "    i = 0\n",
        "    x = x0\n",
        "    H = np.eye(len(x0))\n",
        "    while True:\n",
        "        grad_f = np.gradient(f(x))\n",
        "        d = -H.dot(grad_f)\n",
        "        x_prox = x + alpha*d\n",
        "        s = x_prox - x\n",
        "        y = np.gradient(f(x_prox)) - grad_f\n",
        "        H_prox = H + np.outer(y - H.dot(s), s).dot(H) / np.dot"
      ],
      "metadata": {
        "colab": {
          "base_uri": "https://localhost:8080/"
        },
        "id": "lxs7Ogh163Bi",
        "outputId": "fd8f21c9-9f91-4c1a-8c35-024c90f97039"
      },
      "execution_count": 1,
      "outputs": [
        {
          "output_type": "stream",
          "name": "stdout",
          "text": [
            "A raiz da equação pelo método da bissecção é -0.888889 com 24 iterações.\n"
          ]
        }
      ]
    },
    {
      "cell_type": "code",
      "source": [
        "#Questão 4\n",
        "#Calculo dos Autovalores, Autovetores e SVD\n",
        "import numpy as np\n",
        "from numpy import linalg as LA\n",
        "from numpy.linalg import svd\n",
        "\n",
        "A= np.array([[3,2,7],[2,5,7],[7,1,8]])\n",
        "autovalor, autovetor= LA.eig(A)\n",
        "print(f'autovalor={autovalor}')\n",
        "print(f'autovetor={autovetor}')\n",
        "U, Singular, V = svd(A)\n",
        "print(\"Valores SVD:\", Singular)\n",
        "print(\"-------------------------------\")\n"
      ],
      "metadata": {
        "id": "weejObqGvlRW",
        "colab": {
          "base_uri": "https://localhost:8080/"
        },
        "outputId": "a1dd6f1b-6c7f-49ad-83fe-494611d9f1ab"
      },
      "execution_count": null,
      "outputs": [
        {
          "output_type": "stream",
          "name": "stdout",
          "text": [
            "autovalor=[14.35631335 -1.47439425  3.11808089]\n",
            "autovetor=[[-0.49765377 -0.71770766 -0.05354039]\n",
            " [-0.58529731 -0.39690103 -0.96038303]\n",
            " [-0.64013107  0.57215844  0.27349199]]\n",
            "Valores SVD: [15.29608356  4.36493456  0.98852112]\n",
            "-------------------------------\n"
          ]
        }
      ]
    }
  ]
}